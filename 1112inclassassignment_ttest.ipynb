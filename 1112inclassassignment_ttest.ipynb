{
 "cells": [
  {
   "cell_type": "code",
   "execution_count": 1,
   "metadata": {},
   "outputs": [],
   "source": [
    "import numpy as np\n",
    "import pandas as pd\n",
    "import scipy.stats as stats\n",
    "import math"
   ]
  },
  {
   "cell_type": "markdown",
   "metadata": {},
   "source": [
    "Single population sample"
   ]
  },
  {
   "cell_type": "code",
   "execution_count": 33,
   "metadata": {},
   "outputs": [
    {
     "name": "stdout",
     "output_type": "stream",
     "text": [
      "53.00536\n",
      "32.3\n"
     ]
    }
   ],
   "source": [
    "np.random.seed(6)# seed do you get the same results\n",
    "population_ages1 =stats.poisson.rvs(loc=18, mu=35,size=150000)\n",
    "population_ages2 =stats.poisson.rvs(loc=18, mu=10,size=150000)\n",
    "population_ages = np.concatenate((population_ages1,population_ages2))\n",
    "\n",
    "min_ages1 = stats.poisson.rvs(loc=18, mu=30, size=30)\n",
    "min_ages2 = stats.poisson.rvs(loc=18, mu=10, size=100)\n",
    "min_ages = np.concatenate((min_ages1, min_ages2))\n",
    "\n",
    "print(population_ages1.mean())\n",
    "print(min_ages.mean())"
   ]
  },
  {
   "cell_type": "code",
   "execution_count": 34,
   "metadata": {},
   "outputs": [
    {
     "data": {
      "text/plain": [
       "Ttest_1sampResult(statistic=-10.704046598417447, pvalue=1.5883908410125876e-19)"
      ]
     },
     "execution_count": 34,
     "metadata": {},
     "output_type": "execute_result"
    }
   ],
   "source": [
    "stats.ttest_1samp(a = min_ages, popmean= population_ages.mean())"
   ]
  },
  {
   "cell_type": "markdown",
   "metadata": {},
   "source": [
    "two sample t-test"
   ]
  },
  {
   "cell_type": "code",
   "execution_count": 35,
   "metadata": {},
   "outputs": [
    {
     "name": "stdout",
     "output_type": "stream",
     "text": [
      "46.315384615384616\n"
     ]
    }
   ],
   "source": [
    "np.random.seed(5)\n",
    "wisc1 = stats.poisson.rvs(loc=18, mu=33, size=100)\n",
    "wisc2 = stats.poisson.rvs(loc=18, mu=13, size=30)\n",
    "wisc_ages = np.concatenate((wisc1, wisc2))\n",
    "\n",
    "print(wisc_ages.mean())"
   ]
  },
  {
   "cell_type": "code",
   "execution_count": 36,
   "metadata": {},
   "outputs": [
    {
     "data": {
      "text/plain": [
       "Ttest_indResult(statistic=12.139479211378195, pvalue=4.678596756027852e-27)"
      ]
     },
     "execution_count": 36,
     "metadata": {},
     "output_type": "execute_result"
    }
   ],
   "source": [
    "stats.ttest_ind(a=wisc_ages,b= min_ages, equal_var=False)"
   ]
  },
  {
   "cell_type": "markdown",
   "metadata": {},
   "source": [
    "Paired t-test"
   ]
  },
  {
   "cell_type": "code",
   "execution_count": 44,
   "metadata": {},
   "outputs": [
    {
     "data": {
      "text/html": [
       "<div>\n",
       "<style scoped>\n",
       "    .dataframe tbody tr th:only-of-type {\n",
       "        vertical-align: middle;\n",
       "    }\n",
       "\n",
       "    .dataframe tbody tr th {\n",
       "        vertical-align: top;\n",
       "    }\n",
       "\n",
       "    .dataframe thead th {\n",
       "        text-align: right;\n",
       "    }\n",
       "</style>\n",
       "<table border=\"1\" class=\"dataframe\">\n",
       "  <thead>\n",
       "    <tr style=\"text-align: right;\">\n",
       "      <th></th>\n",
       "      <th>weight_before</th>\n",
       "      <th>weight_after</th>\n",
       "      <th>weight_change</th>\n",
       "    </tr>\n",
       "  </thead>\n",
       "  <tbody>\n",
       "    <tr>\n",
       "      <th>count</th>\n",
       "      <td>35.000000</td>\n",
       "      <td>35.000000</td>\n",
       "      <td>35.000000</td>\n",
       "    </tr>\n",
       "    <tr>\n",
       "      <th>mean</th>\n",
       "      <td>98.394164</td>\n",
       "      <td>93.564667</td>\n",
       "      <td>-4.829497</td>\n",
       "    </tr>\n",
       "    <tr>\n",
       "      <th>std</th>\n",
       "      <td>26.620345</td>\n",
       "      <td>27.988154</td>\n",
       "      <td>4.952044</td>\n",
       "    </tr>\n",
       "    <tr>\n",
       "      <th>min</th>\n",
       "      <td>20.400443</td>\n",
       "      <td>7.666130</td>\n",
       "      <td>-13.420554</td>\n",
       "    </tr>\n",
       "    <tr>\n",
       "      <th>25%</th>\n",
       "      <td>84.653133</td>\n",
       "      <td>77.970613</td>\n",
       "      <td>-9.055756</td>\n",
       "    </tr>\n",
       "    <tr>\n",
       "      <th>50%</th>\n",
       "      <td>94.426740</td>\n",
       "      <td>89.317326</td>\n",
       "      <td>-4.540808</td>\n",
       "    </tr>\n",
       "    <tr>\n",
       "      <th>75%</th>\n",
       "      <td>117.869080</td>\n",
       "      <td>110.323975</td>\n",
       "      <td>-1.760827</td>\n",
       "    </tr>\n",
       "    <tr>\n",
       "      <th>max</th>\n",
       "      <td>152.483642</td>\n",
       "      <td>147.802001</td>\n",
       "      <td>5.783372</td>\n",
       "    </tr>\n",
       "  </tbody>\n",
       "</table>\n",
       "</div>"
      ],
      "text/plain": [
       "       weight_before  weight_after  weight_change\n",
       "count      35.000000     35.000000      35.000000\n",
       "mean       98.394164     93.564667      -4.829497\n",
       "std        26.620345     27.988154       4.952044\n",
       "min        20.400443      7.666130     -13.420554\n",
       "25%        84.653133     77.970613      -9.055756\n",
       "50%        94.426740     89.317326      -4.540808\n",
       "75%       117.869080    110.323975      -1.760827\n",
       "max       152.483642    147.802001       5.783372"
      ]
     },
     "execution_count": 44,
     "metadata": {},
     "output_type": "execute_result"
    }
   ],
   "source": [
    "np.random.seed(11)\n",
    "before = stats.norm.rvs(scale=30, loc=100, size= 35)\n",
    "after = before + stats.norm.rvs(scale= 5,loc=-5, size= 35 )\n",
    "weight_df = pd.DataFrame({'weight_before':before, 'weight_after':after, 'weight_change':after-before})\n",
    "weight_df.describe()"
   ]
  },
  {
   "cell_type": "markdown",
   "metadata": {},
   "source": [
    "running paried t-test"
   ]
  },
  {
   "cell_type": "code",
   "execution_count": 45,
   "metadata": {},
   "outputs": [
    {
     "data": {
      "text/plain": [
       "Ttest_relResult(statistic=5.769675958627695, pvalue=1.7151951793871342e-06)"
      ]
     },
     "execution_count": 45,
     "metadata": {},
     "output_type": "execute_result"
    }
   ],
   "source": [
    "stats.ttest_rel(a=before,b=after)"
   ]
  },
  {
   "cell_type": "code",
   "execution_count": null,
   "metadata": {},
   "outputs": [],
   "source": []
  }
 ],
 "metadata": {
  "kernelspec": {
   "display_name": "Python 3",
   "language": "python",
   "name": "python3"
  },
  "language_info": {
   "codemirror_mode": {
    "name": "ipython",
    "version": 3
   },
   "file_extension": ".py",
   "mimetype": "text/x-python",
   "name": "python",
   "nbconvert_exporter": "python",
   "pygments_lexer": "ipython3",
   "version": "3.6.5"
  }
 },
 "nbformat": 4,
 "nbformat_minor": 2
}
