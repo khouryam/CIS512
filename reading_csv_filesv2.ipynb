{
 "cells": [
  {
   "cell_type": "markdown",
   "metadata": {},
   "source": [
    "***\n",
    "# Reading csv files in python\n",
    "## data structure and data type issues\n",
    "***"
   ]
  },
  {
   "cell_type": "markdown",
   "metadata": {},
   "source": [
    "****\n",
    "`NOTE:` [Here is a Markdown cheat sheet]( https://github.com/adam-p/markdown-here/wiki/Markdown-Cheatsheet)\n",
    "****"
   ]
  },
  {
   "cell_type": "markdown",
   "metadata": {},
   "source": [
    "### Reading data (internet of local)"
   ]
  },
  {
   "cell_type": "markdown",
   "metadata": {},
   "source": [
    "`Goal:` learn how to read a csv file from the internet.\n",
    "\n",
    "`Task description:` Read the file \"Tree-classification.csv\"\n"
   ]
  },
  {
   "cell_type": "markdown",
   "metadata": {},
   "source": [
    "1. We will first read the file from the website http://136.183.56.191/Tree-classification.csv"
   ]
  },
  {
   "cell_type": "code",
   "execution_count": 1,
   "metadata": {},
   "outputs": [
    {
     "data": {
      "text/plain": [
       "<Response [200]>"
      ]
     },
     "execution_count": 1,
     "metadata": {},
     "output_type": "execute_result"
    }
   ],
   "source": [
    "# insert you code here\n",
    "import requests \n",
    "data1=requests.get(\"http://136.183.56.191/Tree-classification.csv\")\n",
    "data1"
   ]
  },
  {
   "cell_type": "code",
   "execution_count": 3,
   "metadata": {},
   "outputs": [],
   "source": [
    "data2=data1.text # To be redone after fixing the encoding\n",
    "#data2"
   ]
  },
  {
   "cell_type": "code",
   "execution_count": 4,
   "metadata": {},
   "outputs": [
    {
     "data": {
      "text/plain": [
       "'ISO-8859-1'"
      ]
     },
     "execution_count": 4,
     "metadata": {},
     "output_type": "execute_result"
    }
   ],
   "source": [
    "data1.encoding"
   ]
  },
  {
   "cell_type": "markdown",
   "metadata": {},
   "source": [
    "Try these websites for help with the strange symbols at the start\n",
    "\n",
    "https://stackoverflow.com/questions/34399172/why-does-my-python-code-print-the-extra-characters-%C3%AF-when-reading-from-a-tex\n",
    "\n",
    "https://www.pythonforbeginners.com/requests/the-awesome-requests-module"
   ]
  },
  {
   "cell_type": "code",
   "execution_count": 6,
   "metadata": {},
   "outputs": [],
   "source": [
    "data1.encoding='utf-8-sig'\n",
    "data2=data1.text\n",
    "#data2"
   ]
  },
  {
   "cell_type": "code",
   "execution_count": 8,
   "metadata": {},
   "outputs": [],
   "source": [
    "data3=data2.split()\n",
    "#data3"
   ]
  },
  {
   "cell_type": "code",
   "execution_count": 10,
   "metadata": {},
   "outputs": [],
   "source": [
    "data4=[]\n",
    "for row in data3:\n",
    "    data4.append(row.split(\",\"))\n",
    "#data4"
   ]
  },
  {
   "cell_type": "code",
   "execution_count": 12,
   "metadata": {},
   "outputs": [],
   "source": [
    "datavalues=[]\n",
    "for row in data4[1:]:\n",
    "    datavalues.append(list(map(int,row)))\n",
    "#datavalues"
   ]
  },
  {
   "cell_type": "code",
   "execution_count": 13,
   "metadata": {},
   "outputs": [],
   "source": [
    "datahead=data4[0]\n",
    "#datahead"
   ]
  },
  {
   "cell_type": "markdown",
   "metadata": {},
   "source": [
    "We can change this list to a numpy array and back easily"
   ]
  },
  {
   "cell_type": "code",
   "execution_count": 15,
   "metadata": {},
   "outputs": [],
   "source": [
    "import numpy as np\n",
    "datavalues=np.array(datavalues)\n",
    "#datavalues"
   ]
  },
  {
   "cell_type": "code",
   "execution_count": 17,
   "metadata": {},
   "outputs": [],
   "source": [
    "datahead=np.array(datahead)\n",
    "#datahead"
   ]
  },
  {
   "cell_type": "code",
   "execution_count": null,
   "metadata": {},
   "outputs": [],
   "source": [
    "datahead=datahead.tolist()\n",
    "#datahead"
   ]
  },
  {
   "cell_type": "markdown",
   "metadata": {},
   "source": [
    "DONE WITH READING THE CSV FILE FROM SCRATCH!!!"
   ]
  },
  {
   "cell_type": "markdown",
   "metadata": {},
   "source": [
    "IT IS EASIER TO READ CSV FILES USING PANDAS"
   ]
  },
  {
   "cell_type": "markdown",
   "metadata": {},
   "source": [
    "2. Read the file using pandas and numpy online or from a local file in your computer"
   ]
  },
  {
   "cell_type": "code",
   "execution_count": 19,
   "metadata": {},
   "outputs": [],
   "source": [
    "import pandas as pd\n",
    "import numpy as np"
   ]
  },
  {
   "cell_type": "code",
   "execution_count": 21,
   "metadata": {},
   "outputs": [],
   "source": [
    "#This works with either local files or files on a server\n",
    "dataP=pd.read_csv(\"http://136.183.56.191/Tree-classification.csv\") #Use the URL or path to local file\n",
    "#dataP"
   ]
  },
  {
   "cell_type": "code",
   "execution_count": 23,
   "metadata": {},
   "outputs": [],
   "source": [
    "dataPvalues=dataP.values\n",
    "#dataPvalues"
   ]
  },
  {
   "cell_type": "code",
   "execution_count": 24,
   "metadata": {},
   "outputs": [
    {
     "data": {
      "text/plain": [
       "numpy.ndarray"
      ]
     },
     "execution_count": 24,
     "metadata": {},
     "output_type": "execute_result"
    }
   ],
   "source": [
    "type(dataPvalues)"
   ]
  },
  {
   "cell_type": "code",
   "execution_count": 25,
   "metadata": {},
   "outputs": [],
   "source": [
    "dataPvalues=dataPvalues.tolist()"
   ]
  },
  {
   "cell_type": "code",
   "execution_count": 26,
   "metadata": {},
   "outputs": [
    {
     "data": {
      "text/plain": [
       "[[1, 188, 72, 3],\n",
       " [2, 103, 14, 5],\n",
       " [3, 80, 51, 2],\n",
       " [4, 167, 21, 2],\n",
       " [5, 162, 20, 1],\n",
       " [6, 161, 68, 5],\n",
       " [7, 162, 88, 2],\n",
       " [8, 128, 91, 1],\n",
       " [9, 148, 48, 3],\n",
       " [10, 130, 7, 3],\n",
       " [11, 103, 37, 5],\n",
       " [12, 110, 98, 5],\n",
       " [13, 140, 46, 2],\n",
       " [14, 152, 99, 4],\n",
       " [15, 128, 31, 5],\n",
       " [16, 136, 91, 3],\n",
       " [17, 123, 59, 1],\n",
       " [18, 101, 45, 1],\n",
       " [19, 143, 83, 1],\n",
       " [20, 142, 30, 5],\n",
       " [21, 164, 48, 5],\n",
       " [22, 155, 99, 3],\n",
       " [23, 177, 7, 2],\n",
       " [24, 138, 59, 4],\n",
       " [25, 158, 66, 5],\n",
       " [26, 110, 80, 3],\n",
       " [27, 165, 72, 1],\n",
       " [28, 118, 80, 1],\n",
       " [29, 126, 78, 5],\n",
       " [30, 99, 30, 5],\n",
       " [31, 164, 57, 3],\n",
       " [32, 178, 39, 1],\n",
       " [33, 108, 53, 1],\n",
       " [34, 177, 15, 1],\n",
       " [35, 135, 79, 2],\n",
       " [36, 187, 79, 5],\n",
       " [37, 169, 74, 5],\n",
       " [38, 200, 32, 5],\n",
       " [39, 162, 96, 2],\n",
       " [40, 125, 17, 1],\n",
       " [41, 104, 77, 3],\n",
       " [42, 124, 100, 2],\n",
       " [43, 195, 71, 1],\n",
       " [44, 113, 49, 3],\n",
       " [45, 192, 19, 1],\n",
       " [46, 197, 78, 4],\n",
       " [47, 141, 2, 4],\n",
       " [48, 166, 3, 4],\n",
       " [49, 81, 37, 1],\n",
       " [50, 199, 64, 4],\n",
       " [51, 160, 9, 4],\n",
       " [52, 189, 52, 4],\n",
       " [53, 126, 39, 3],\n",
       " [54, 188, 94, 4],\n",
       " [55, 82, 0, 2],\n",
       " [56, 119, 23, 3],\n",
       " [57, 177, 88, 4],\n",
       " [58, 136, 10, 1],\n",
       " [59, 196, 61, 5],\n",
       " [60, 140, 60, 3],\n",
       " [61, 112, 24, 2],\n",
       " [62, 145, 12, 2],\n",
       " [63, 156, 44, 5],\n",
       " [64, 166, 31, 1],\n",
       " [65, 119, 34, 3],\n",
       " [66, 174, 35, 4],\n",
       " [67, 141, 34, 1],\n",
       " [68, 88, 22, 4],\n",
       " [69, 193, 94, 4],\n",
       " [70, 141, 27, 3],\n",
       " [71, 167, 41, 4],\n",
       " [72, 134, 25, 2],\n",
       " [73, 143, 61, 4],\n",
       " [74, 160, 10, 2],\n",
       " [75, 127, 55, 3],\n",
       " [76, 145, 76, 2],\n",
       " [77, 93, 0, 1],\n",
       " [78, 132, 44, 3],\n",
       " [79, 120, 82, 4],\n",
       " [80, 109, 62, 4],\n",
       " [81, 113, 91, 1],\n",
       " [82, 82, 34, 3],\n",
       " [83, 174, 17, 2],\n",
       " [84, 115, 50, 1],\n",
       " [85, 182, 59, 4],\n",
       " [86, 115, 0, 5],\n",
       " [87, 124, 86, 3],\n",
       " [88, 161, 63, 1],\n",
       " [89, 99, 17, 3],\n",
       " [90, 127, 82, 4],\n",
       " [91, 167, 99, 3],\n",
       " [92, 192, 20, 3],\n",
       " [93, 140, 49, 2],\n",
       " [94, 81, 8, 5],\n",
       " [95, 119, 70, 4],\n",
       " [96, 117, 44, 1],\n",
       " [97, 165, 52, 1],\n",
       " [98, 160, 61, 5],\n",
       " [99, 119, 7, 3],\n",
       " [100, 129, 5, 5],\n",
       " [101, 99, 7, 4],\n",
       " [102, 198, 48, 4],\n",
       " [103, 96, 25, 4],\n",
       " [104, 99, 21, 5],\n",
       " [105, 102, 23, 5],\n",
       " [106, 94, 98, 2],\n",
       " [107, 169, 85, 3],\n",
       " [108, 153, 56, 3],\n",
       " [109, 141, 39, 5],\n",
       " [110, 185, 86, 5],\n",
       " [111, 138, 83, 5],\n",
       " [112, 108, 30, 3],\n",
       " [113, 116, 84, 4],\n",
       " [114, 153, 24, 2],\n",
       " [115, 143, 98, 2],\n",
       " [116, 97, 94, 1],\n",
       " [117, 112, 66, 5],\n",
       " [118, 125, 92, 2],\n",
       " [119, 105, 88, 5],\n",
       " [120, 121, 74, 2],\n",
       " [121, 94, 76, 4],\n",
       " [122, 96, 38, 1],\n",
       " [123, 125, 59, 1],\n",
       " [124, 175, 73, 5],\n",
       " [125, 150, 68, 5],\n",
       " [126, 171, 21, 1],\n",
       " [127, 115, 57, 1],\n",
       " [128, 159, 34, 4],\n",
       " [129, 131, 28, 2],\n",
       " [130, 127, 85, 4],\n",
       " [131, 150, 63, 1],\n",
       " [132, 198, 9, 2],\n",
       " [133, 193, 89, 1],\n",
       " [134, 148, 31, 4],\n",
       " [135, 170, 36, 1],\n",
       " [136, 103, 37, 4],\n",
       " [137, 167, 26, 3],\n",
       " [138, 188, 74, 1],\n",
       " [139, 102, 9, 3],\n",
       " [140, 117, 47, 4],\n",
       " [141, 127, 64, 5],\n",
       " [142, 101, 73, 2],\n",
       " [143, 187, 84, 2],\n",
       " [144, 131, 47, 3],\n",
       " [145, 137, 41, 1],\n",
       " [146, 133, 95, 4],\n",
       " [147, 192, 28, 4],\n",
       " [148, 191, 58, 4],\n",
       " [149, 83, 60, 2],\n",
       " [150, 110, 38, 4],\n",
       " [151, 129, 65, 1],\n",
       " [152, 98, 37, 4],\n",
       " [153, 195, 9, 3],\n",
       " [154, 192, 43, 5],\n",
       " [155, 182, 88, 2],\n",
       " [156, 189, 31, 1],\n",
       " [157, 126, 90, 2],\n",
       " [158, 141, 34, 4],\n",
       " [159, 83, 90, 3],\n",
       " [160, 178, 30, 1],\n",
       " [161, 81, 54, 5],\n",
       " [162, 173, 21, 4],\n",
       " [163, 190, 34, 2],\n",
       " [164, 146, 87, 1],\n",
       " [165, 128, 24, 1],\n",
       " [166, 91, 4, 4],\n",
       " [167, 197, 27, 2],\n",
       " [168, 110, 38, 2],\n",
       " [169, 151, 89, 1],\n",
       " [170, 124, 11, 2],\n",
       " [171, 171, 11, 1],\n",
       " [172, 169, 70, 2],\n",
       " [173, 97, 12, 1],\n",
       " [174, 178, 55, 3],\n",
       " [175, 197, 77, 4],\n",
       " [176, 128, 41, 2],\n",
       " [177, 117, 78, 5],\n",
       " [178, 172, 67, 4],\n",
       " [179, 156, 93, 1],\n",
       " [180, 131, 94, 3],\n",
       " [181, 100, 72, 5],\n",
       " [182, 122, 66, 3],\n",
       " [183, 97, 46, 2],\n",
       " [184, 139, 79, 3],\n",
       " [185, 193, 86, 4],\n",
       " [186, 99, 57, 1],\n",
       " [187, 143, 47, 3],\n",
       " [188, 185, 80, 3],\n",
       " [189, 181, 9, 4],\n",
       " [190, 192, 49, 5],\n",
       " [191, 100, 31, 2],\n",
       " [192, 83, 57, 2],\n",
       " [193, 123, 37, 1],\n",
       " [194, 191, 87, 2],\n",
       " [195, 185, 9, 4],\n",
       " [196, 187, 31, 2],\n",
       " [197, 191, 34, 5],\n",
       " [198, 185, 22, 5],\n",
       " [199, 181, 1, 2],\n",
       " [200, 115, 89, 2]]"
      ]
     },
     "execution_count": 26,
     "metadata": {},
     "output_type": "execute_result"
    }
   ],
   "source": [
    "#type(dataPvalues)\n",
    "dataPvalues"
   ]
  },
  {
   "cell_type": "markdown",
   "metadata": {},
   "source": []
  },
  {
   "cell_type": "code",
   "execution_count": null,
   "metadata": {},
   "outputs": [],
   "source": []
  },
  {
   "cell_type": "code",
   "execution_count": null,
   "metadata": {},
   "outputs": [],
   "source": []
  }
 ],
 "metadata": {
  "kernelspec": {
   "display_name": "Python 3",
   "language": "python",
   "name": "python3"
  },
  "language_info": {
   "codemirror_mode": {
    "name": "ipython",
    "version": 3
   },
   "file_extension": ".py",
   "mimetype": "text/x-python",
   "name": "python",
   "nbconvert_exporter": "python",
   "pygments_lexer": "ipython3",
   "version": "3.6.5"
  }
 },
 "nbformat": 4,
 "nbformat_minor": 2
}
